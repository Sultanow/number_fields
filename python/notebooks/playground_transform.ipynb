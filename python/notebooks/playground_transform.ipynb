{
 "cells": [
  {
   "cell_type": "code",
   "execution_count": 5,
   "source": [
    "import sympy\r\n",
    "import pandas as pd\r\n",
    "import glob"
   ],
   "outputs": [],
   "metadata": {}
  },
  {
   "cell_type": "code",
   "execution_count": 35,
   "source": [
    "filename = \"class number 1_ Disc 10000001-100000000\"\r\n",
    "file_input = filename + \".csv\"\r\n",
    "file_output_proc = filename + \"_coeff.csv\"\r\n",
    "\r\n",
    "df_fields = pd.read_csv(file_input, header=None)\r\n",
    "\r\n",
    "# replace ^ by ** and e.g. 3x by 3*x\r\n",
    "df_fields = df_fields.replace('\\^', '**', regex=True)\r\n",
    "df_fields = df_fields.replace('(\\d)(x)', '\\g<1>*\\g<2>', regex=True)\r\n",
    "\r\n",
    "# Extract coeff and append to df_fields\r\n",
    "df_fields = pd.concat([df_fields, pd.DataFrame(data=[sympy.polys.polytools.poly_from_expr(exp)[0].all_coeffs() for exp in df_fields[1]], columns=['c1','c2','c3'])], axis=1)\r\n",
    "\r\n",
    "df_fields.to_csv(file_output_proc, sep=',')\r\n",
    "\r\n",
    "#col_polynomials = df_fields[1].tolist()\r\n",
    "#f = open(filename + '_poly.txt', 'w')\r\n",
    "#print(\",\".join(col_polynomials) , file = f)\r\n",
    "#f.close()"
   ],
   "outputs": [],
   "metadata": {
    "id": "a42M43IPu1cD"
   }
  },
  {
   "cell_type": "code",
   "execution_count": 3,
   "source": [
    "coeff_files = glob.glob(\"./*_coeff.csv\")\r\n",
    "li = []\r\n",
    "for filename in coeff_files:\r\n",
    "    df = pd.read_csv(filename, delimiter=',', index_col=0)\r\n",
    "    if 'class number 1' in filename:\r\n",
    "        df['class'] = 1\r\n",
    "    elif 'class number 2' in filename:\r\n",
    "        df['class'] = 2\r\n",
    "    li.append(df)\r\n",
    "    #print(df.iloc[:3])\r\n",
    "\r\n",
    "df_merged = pd.concat(li, axis=0, ignore_index=True)\r\n",
    "#print(df_merged.iloc[:,1])\r\n",
    "lst_polynomials = df_merged.iloc[:,1].tolist()\r\n",
    "print(len(lst_polynomials))\r\n",
    "f = open('all_polys.txt', 'w')\r\n",
    "print(\",\".join(lst_polynomials) , file = f)\r\n",
    "f.close()\r\n",
    "\r\n",
    "df_merged.to_csv('all_coeffs.csv', sep=',')\r\n"
   ],
   "outputs": [
    {
     "output_type": "stream",
     "name": "stdout",
     "text": [
      "360617\n"
     ]
    }
   ],
   "metadata": {}
  }
 ],
 "metadata": {
  "colab": {
   "collapsed_sections": [],
   "name": "graphwizz-tree.ipynb",
   "provenance": [],
   "toc_visible": true
  },
  "interpreter": {
   "hash": "b5ab0475b90545719560a28f8d566dc7b6b99528fc0d3a97f1d983c5a4dd5546"
  },
  "kernelspec": {
   "display_name": "Python 3.8.8 64-bit ('base': conda)",
   "name": "python3"
  },
  "language_info": {
   "codemirror_mode": {
    "name": "ipython",
    "version": 3
   },
   "file_extension": ".py",
   "mimetype": "text/x-python",
   "name": "python",
   "nbconvert_exporter": "python",
   "pygments_lexer": "ipython3",
   "version": "3.8.8"
  },
  "metadata": {
   "interpreter": {
    "hash": "ac59ebe37160ed0dfa835113d9b8498d9f09ceb179beaac4002f036b9467c963"
   }
  }
 },
 "nbformat": 4,
 "nbformat_minor": 2
}