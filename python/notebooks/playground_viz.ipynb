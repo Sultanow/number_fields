{
 "cells": [
  {
   "cell_type": "code",
   "execution_count": 2,
   "source": [
    "import pandas as pd\r\n",
    "import numpy as np\r\n",
    "import matplotlib.pyplot as plt\r\n",
    "\r\n",
    "import sklearn as sk\r\n",
    "from sklearn.model_selection import train_test_split\r\n",
    "from sklearn.linear_model import LogisticRegression\r\n",
    "from sklearn import svm\r\n",
    "from sklearn.svm import SVR\r\n",
    "from sklearn.ensemble import RandomForestClassifier\r\n",
    "\r\n",
    "import plotly\r\n",
    "import plotly.offline as py\r\n",
    "py.init_notebook_mode(connected=True)\r\n",
    "import plotly.graph_objs as go"
   ],
   "outputs": [
    {
     "output_type": "display_data",
     "data": {
      "text/html": [
       "        <script type=\"text/javascript\">\n",
       "        window.PlotlyConfig = {MathJaxConfig: 'local'};\n",
       "        if (window.MathJax) {MathJax.Hub.Config({SVG: {font: \"STIX-Web\"}});}\n",
       "        if (typeof require !== 'undefined') {\n",
       "        require.undef(\"plotly\");\n",
       "        requirejs.config({\n",
       "            paths: {\n",
       "                'plotly': ['https://cdn.plot.ly/plotly-latest.min']\n",
       "            }\n",
       "        });\n",
       "        require(['plotly'], function(Plotly) {\n",
       "            window._Plotly = Plotly;\n",
       "        });\n",
       "        }\n",
       "        </script>\n",
       "        "
      ]
     },
     "metadata": {}
    }
   ],
   "metadata": {}
  },
  {
   "cell_type": "code",
   "execution_count": 4,
   "source": [
    "df_all = pd.read_csv('C:/Temp/all_features.csv')"
   ],
   "outputs": [],
   "metadata": {}
  },
  {
   "cell_type": "code",
   "execution_count": 3,
   "source": [
    "#Columns are:\r\n",
    "# 'defining_polynomial'\r\n",
    "# 'class_number'\r\n",
    "# 'discriminant'\r\n",
    "# 'signature_r1', 'signature_r2'\r\n",
    "# 'unit_group_rank'\r\n",
    "# 'number_roots_unity'\r\n",
    "# 'regulator'\r\n",
    "# 'zeta_coeff'\r\n",
    "# '_2', '_3', '_4', '_5', ...\r\n",
    "\r\n",
    "#print(df_all.columns.tolist())"
   ],
   "outputs": [],
   "metadata": {}
  },
  {
   "cell_type": "code",
   "execution_count": 5,
   "source": [
    "df_train, df_test = train_test_split(df_all, test_size=0.4, stratify=df_all.iloc[:, 1])\r\n",
    "\r\n",
    "# column to predict is 'class_number' (1st column)\r\n",
    "# column indexing is zero-based\r\n",
    "y_train = df_train.iloc[:,1]\r\n",
    "y_test = df_test.iloc[:,1]\r\n",
    "\r\n",
    "# matrix of explanatory variables includes\r\n",
    "# column 2 to 8\r\n",
    "X_train = df_train.iloc[:,2:1001] #[:,2:9]\r\n",
    "X_test = df_test.iloc[:,2:1001]\r\n",
    "\r\n",
    "LR = LogisticRegression(random_state=0, solver='lbfgs', multi_class='ovr').fit(X_train, y_train)\r\n",
    "#LR.predict(df_test.iloc[:,2:9])\r\n",
    "\r\n",
    "score = LR.score(X_test, y_test)\r\n",
    "print(score)\r\n"
   ],
   "outputs": [
    {
     "output_type": "stream",
     "name": "stdout",
     "text": [
      "0.6723679905051884\n"
     ]
    }
   ],
   "metadata": {}
  },
  {
   "cell_type": "code",
   "execution_count": 6,
   "source": [
    "df_reduced = df_all.sample(3000)\r\n",
    "df_train, df_test = train_test_split(df_reduced, test_size=0.3, stratify=df_reduced.iloc[:, 1])\r\n",
    "\r\n",
    "# column to predict is 'class_number' (1st column)\r\n",
    "# column indexing is zero-based\r\n",
    "y_train = df_train.iloc[:,1]\r\n",
    "y_test = df_test.iloc[:,1]\r\n",
    "\r\n",
    "# matrix of explanatory variables includes\r\n",
    "# column 2 to 8\r\n",
    "X_train = df_train.iloc[:,2:20] #[:,2:9], [:,2:1001]\r\n",
    "X_test = df_test.iloc[:,2:20]\r\n",
    "\r\n",
    "svc_lin = svm.LinearSVC()\r\n",
    "svc_nu = svm.NuSVC(gamma='auto')\r\n",
    "svr_rbf = SVR(kernel='rbf', C=100, gamma=0.1, epsilon=.1)\r\n",
    "svr_lin = SVR(kernel='linear', C=100, gamma='auto')\r\n",
    "svr_poly = SVR(kernel='poly', C=100, gamma='auto', degree=3, epsilon=.1, coef0=1)\r\n",
    "svr_poly.fit(X_train, y_train)\r\n",
    "#LR.predict(df_test.iloc[:,2:9])\r\n",
    "\r\n",
    "score = svr_poly.score(X_test, y_test)\r\n",
    "print(score)"
   ],
   "outputs": [],
   "metadata": {}
  },
  {
   "cell_type": "code",
   "execution_count": 9,
   "source": [
    "df_train, df_test = train_test_split(df_all, test_size=0.4, stratify=df_all.iloc[:, 1])\r\n",
    "\r\n",
    "# column to predict is 'class_number' (1st column)\r\n",
    "# column indexing is zero-based\r\n",
    "y_train = df_train.iloc[:,1]\r\n",
    "y_test = df_test.iloc[:,1]\r\n",
    "\r\n",
    "# matrix of explanatory variables includes\r\n",
    "# column 2 to 8\r\n",
    "X_train = df_train.iloc[:,2:1001] #[:,2:9]\r\n",
    "X_test = df_test.iloc[:,2:1001]\r\n",
    "\r\n",
    "RF = RandomForestClassifier(n_estimators=100, max_depth=4, random_state=0)\r\n",
    "RF.fit(X_test, y_test)\r\n",
    "\r\n",
    "score = RF.score(X_test, y_test)\r\n",
    "print(score)"
   ],
   "outputs": [
    {
     "output_type": "stream",
     "name": "stdout",
     "text": [
      "0.6898098400659979\n"
     ]
    }
   ],
   "metadata": {}
  },
  {
   "cell_type": "code",
   "execution_count": 1,
   "source": [
    "df_plot = df_all.sample(4000)\r\n",
    "\r\n",
    "dr1 = go.Scatter3d(\r\n",
    "    x=df_plot[df_plot['class_number'] == 1]['discriminant'],\r\n",
    "    y=df_plot[df_plot['class_number'] == 1]['regulator'],\r\n",
    "    z=df_plot[df_plot['class_number'] == 1]['zeta_coeff'],\r\n",
    "    mode='markers',\r\n",
    "    marker = dict(size=3,\r\n",
    "                  color='rgb(255,0,0)',\r\n",
    "                  line=dict(width=1)),\r\n",
    "    name ='Discriminant-Regulator-_1'\r\n",
    ")\r\n",
    "dr2 = go.Scatter3d(\r\n",
    "    x=df_plot[df_plot['class_number'] == 2]['discriminant'],\r\n",
    "    y=df_plot[df_plot['class_number'] == 2]['regulator'],\r\n",
    "    z=df_plot[df_plot['class_number'] == 2]['zeta_coeff'],\r\n",
    "    mode='markers',\r\n",
    "    marker = dict(size=3,\r\n",
    "                  color='rgb(0,255,0)',\r\n",
    "                  line=dict(width=1)),\r\n",
    "    name ='Discriminant-Regulator-_2'\r\n",
    ")\r\n",
    "\r\n",
    "data = [dr1, dr2]\r\n",
    "layout = go.Layout(\r\n",
    "    title='class_number',\r\n",
    "    scene = dict(\r\n",
    "        xaxis = dict(title='blue'),\r\n",
    "        yaxis = dict(title='red'),\r\n",
    "        zaxis = dict(title='green'),)\r\n",
    ")\r\n",
    "fig = go.Figure(data=data, layout=layout)\r\n",
    "py.iplot(fig, filename='class_number')"
   ],
   "outputs": [
    {
     "output_type": "error",
     "ename": "NameError",
     "evalue": "name 'df_all' is not defined",
     "traceback": [
      "\u001b[1;31m---------------------------------------------------------------------------\u001b[0m",
      "\u001b[1;31mNameError\u001b[0m                                 Traceback (most recent call last)",
      "\u001b[1;32m<ipython-input-1-542f5659693b>\u001b[0m in \u001b[0;36m<module>\u001b[1;34m\u001b[0m\n\u001b[1;32m----> 1\u001b[1;33m \u001b[0mdf_plot\u001b[0m \u001b[1;33m=\u001b[0m \u001b[0mdf_all\u001b[0m\u001b[1;33m.\u001b[0m\u001b[0msample\u001b[0m\u001b[1;33m(\u001b[0m\u001b[1;36m4000\u001b[0m\u001b[1;33m)\u001b[0m\u001b[1;33m\u001b[0m\u001b[1;33m\u001b[0m\u001b[0m\n\u001b[0m\u001b[0;32m      2\u001b[0m \u001b[1;33m\u001b[0m\u001b[0m\n\u001b[0;32m      3\u001b[0m dr1 = go.Scatter3d(\n\u001b[0;32m      4\u001b[0m     \u001b[0mx\u001b[0m\u001b[1;33m=\u001b[0m\u001b[0mdf_plot\u001b[0m\u001b[1;33m[\u001b[0m\u001b[0mdf_plot\u001b[0m\u001b[1;33m[\u001b[0m\u001b[1;34m'class_number'\u001b[0m\u001b[1;33m]\u001b[0m \u001b[1;33m==\u001b[0m \u001b[1;36m1\u001b[0m\u001b[1;33m]\u001b[0m\u001b[1;33m[\u001b[0m\u001b[1;34m'discriminant'\u001b[0m\u001b[1;33m]\u001b[0m\u001b[1;33m,\u001b[0m\u001b[1;33m\u001b[0m\u001b[1;33m\u001b[0m\u001b[0m\n\u001b[0;32m      5\u001b[0m     \u001b[0my\u001b[0m\u001b[1;33m=\u001b[0m\u001b[0mdf_plot\u001b[0m\u001b[1;33m[\u001b[0m\u001b[0mdf_plot\u001b[0m\u001b[1;33m[\u001b[0m\u001b[1;34m'class_number'\u001b[0m\u001b[1;33m]\u001b[0m \u001b[1;33m==\u001b[0m \u001b[1;36m1\u001b[0m\u001b[1;33m]\u001b[0m\u001b[1;33m[\u001b[0m\u001b[1;34m'regulator'\u001b[0m\u001b[1;33m]\u001b[0m\u001b[1;33m,\u001b[0m\u001b[1;33m\u001b[0m\u001b[1;33m\u001b[0m\u001b[0m\n",
      "\u001b[1;31mNameError\u001b[0m: name 'df_all' is not defined"
     ]
    }
   ],
   "metadata": {}
  },
  {
   "cell_type": "code",
   "execution_count": 6,
   "source": [
    "# useful links\r\n",
    "# https://www.kaggle.com/robjan/binary-classification-with-visualization\r\n",
    "# https://stackabuse.com/classification-in-python-with-scikit-learn-and-pandas\r\n"
   ],
   "outputs": [],
   "metadata": {}
  },
  {
   "cell_type": "code",
   "execution_count": 7,
   "source": [
    "print(df_all.loc[400:410, ['defining_polynomial', 'class_number', 'number_roots_unity', '_2', '_3']])\r\n",
    "df_plot = df_all.iloc[0:1000]\r\n",
    "# df_plot = df_all\r\n",
    "x = df_plot['discriminant'].to_numpy()\r\n",
    "y = df_plot['regulator'].to_numpy()\r\n",
    "colors = df_all['class_number']\r\n",
    "color_map = {1:'red', 2:'blue'}\r\n",
    "\r\n",
    "f = plt.figure()\r\n",
    "# plt.scatter(x, y, s=4, alpha=0.9, c=colors.map(color_map))\r\n",
    "plt.scatter(x, y, s=4, alpha=0.9)\r\n",
    "# plt.title(\"class 1 (red) and class 2 (blue) for x^2 + bx + c\")\r\n",
    "plt.xlabel(\"discriminant\")\r\n",
    "plt.ylabel(\"regulator\")\r\n",
    "plt.show()"
   ],
   "outputs": [
    {
     "output_type": "stream",
     "name": "stdout",
     "text": [
      "    defining_polynomial  class_number  number_roots_unity  _2  _3\n",
      "400       x^2 - x - 634             1                   2   2   0\n",
      "401       x^2 - x - 637             1                   2   0   0\n",
      "402       x^2 - x - 642             1                   2   2   2\n",
      "403           x^2 - 643             1                   2   1   2\n",
      "404       x^2 - x - 643             1                   2   0   0\n",
      "405       x^2 - x - 644             1                   2   2   1\n",
      "406           x^2 - 647             1                   2   1   0\n",
      "407       x^2 - x - 648             1                   2   2   2\n",
      "408       x^2 - x - 652             1                   2   2   0\n",
      "409       x^2 - x - 654             1                   2   2   2\n",
      "410       x^2 - x - 655             1                   2   0   0\n"
     ]
    },
    {
     "output_type": "display_data",
     "data": {
      "text/plain": [
       "<Figure size 432x288 with 1 Axes>"
      ],
      "image/png": "[encoded data removed]"
     },
     "metadata": {
      "needs_background": "light"
     }
    }
   ],
   "metadata": {}
  },
  {
   "cell_type": "code",
   "execution_count": null,
   "source": [],
   "outputs": [],
   "metadata": {}
  }
 ],
 "metadata": {
  "colab": {
   "collapsed_sections": [],
   "name": "graphwizz-tree.ipynb",
   "provenance": [],
   "toc_visible": true
  },
  "interpreter": {
   "hash": "b5ab0475b90545719560a28f8d566dc7b6b99528fc0d3a97f1d983c5a4dd5546"
  },
  "kernelspec": {
   "display_name": "Python 3",
   "language": "python",
   "name": "python3"
  },
  "language_info": {
   "codemirror_mode": {
    "name": "ipython",
    "version": 3
   },
   "file_extension": ".py",
   "mimetype": "text/x-python",
   "name": "python",
   "nbconvert_exporter": "python",
   "pygments_lexer": "ipython3",
   "version": "3.9.2"
  },
  "metadata": {
   "interpreter": {
    "hash": "ac59ebe37160ed0dfa835113d9b8498d9f09ceb179beaac4002f036b9467c963"
   }
  }
 },
 "nbformat": 4,
 "nbformat_minor": 2
}