{
 "cells": [
  {
   "cell_type": "code",
   "execution_count": 26,
   "source": [
    "import pandas as pd\r\n",
    "import numpy as np\r\n",
    "import matplotlib.pyplot as plt\r\n",
    "\r\n",
    "import sklearn as sk\r\n",
    "from sklearn.linear_model import LogisticRegression\r\n",
    "from sklearn.model_selection import train_test_split\r\n",
    "\r\n",
    "import plotly\r\n",
    "import plotly.offline as py\r\n",
    "py.init_notebook_mode(connected=True)\r\n",
    "import plotly.graph_objs as go"
   ],
   "outputs": [
    {
     "output_type": "display_data",
     "data": {
      "text/html": [
       "        <script type=\"text/javascript\">\n",
       "        window.PlotlyConfig = {MathJaxConfig: 'local'};\n",
       "        if (window.MathJax) {MathJax.Hub.Config({SVG: {font: \"STIX-Web\"}});}\n",
       "        if (typeof require !== 'undefined') {\n",
       "        require.undef(\"plotly\");\n",
       "        requirejs.config({\n",
       "            paths: {\n",
       "                'plotly': ['https://cdn.plot.ly/plotly-latest.min']\n",
       "            }\n",
       "        });\n",
       "        require(['plotly'], function(Plotly) {\n",
       "            window._Plotly = Plotly;\n",
       "        });\n",
       "        }\n",
       "        </script>\n",
       "        "
      ]
     },
     "metadata": {}
    }
   ],
   "metadata": {}
  },
  {
   "cell_type": "code",
   "execution_count": 3,
   "source": [
    "df_all = pd.read_csv('C:/Temp/all_features.csv')"
   ],
   "outputs": [],
   "metadata": {}
  },
  {
   "cell_type": "code",
   "execution_count": 7,
   "source": [
    "#Columns are:\r\n",
    "# 'defining_polynomial'\r\n",
    "# 'class_number'\r\n",
    "# 'discriminant'\r\n",
    "# 'signature_r1', 'signature_r2'\r\n",
    "# 'unit_group_rank'\r\n",
    "# 'number_roots_unity'\r\n",
    "# 'regulator'\r\n",
    "# 'zeta_coeff'\r\n",
    "# '_2', '_3', '_4', '_5', ...\r\n",
    "\r\n",
    "#print(df_all.columns.tolist())"
   ],
   "outputs": [],
   "metadata": {}
  },
  {
   "cell_type": "code",
   "execution_count": 32,
   "source": [
    "df_train = df_all.iloc[0:100000]\r\n",
    "df_test = df_all.iloc[100001:100100]\r\n",
    "\r\n",
    "# column to predict is 'class_number' (1st column)\r\n",
    "# column indexing is zero-based\r\n",
    "y = df_train.iloc[:,1]\r\n",
    "\r\n",
    "# matrix of explanatory variables includes\r\n",
    "# column 2 to 8\r\n",
    "X = df_train.iloc[:,2:9]\r\n",
    "\r\n",
    "LR = LogisticRegression(random_state=0, solver='lbfgs', multi_class='ovr').fit(X, y)\r\n",
    "LR.predict(df_test.iloc[:,2:9])\r\n",
    "round(LR.score(X,y), 4)\r\n"
   ],
   "outputs": [
    {
     "output_type": "execute_result",
     "data": {
      "text/plain": [
       "1.0"
      ]
     },
     "metadata": {},
     "execution_count": 32
    }
   ],
   "metadata": {}
  },
  {
   "cell_type": "code",
   "execution_count": null,
   "source": [
    "#https://www.kaggle.com/robjan/binary-classification-with-visualization\r\n",
    "#https://stackabuse.com/classification-in-python-with-scikit-learn-and-pandas\r\n",
    "\r\n"
   ],
   "outputs": [],
   "metadata": {}
  },
  {
   "cell_type": "code",
   "execution_count": 10,
   "source": [
    "print(df_all.loc[400:410, ['defining_polynomial', 'class_number', 'number_roots_unity', '_2', '_3']])\r\n",
    "df_plot = df_all.iloc[0:1000]\r\n",
    "#df_plot = df_all\r\n",
    "x = df_plot['discriminant'].to_numpy()\r\n",
    "y = df_plot['regulator'].to_numpy()\r\n",
    "colors = df_all['class_number']\r\n",
    "color_map = {1:'red', 2:'blue'}\r\n",
    "\r\n",
    "f = plt.figure()\r\n",
    "#plt.scatter(x, y, s=4, alpha=0.9, c=colors.map(color_map))\r\n",
    "plt.scatter(x, y, s=4, alpha=0.9)\r\n",
    "#plt.title(\"class 1 (red) and class 2 (blue) for x^2 + bx + c\")\r\n",
    "plt.xlabel(\"discriminant\")\r\n",
    "plt.ylabel(\"regulator\")\r\n",
    "plt.show()"
   ],
   "outputs": [
    {
     "output_type": "stream",
     "name": "stdout",
     "text": [
      "    defining_polynomial  class_number  number_roots_unity  _2  _3\n",
      "400       x^2 - x - 634             1                   2   2   0\n",
      "401       x^2 - x - 637             1                   2   0   0\n",
      "402       x^2 - x - 642             1                   2   2   2\n",
      "403           x^2 - 643             1                   2   1   2\n",
      "404       x^2 - x - 643             1                   2   0   0\n",
      "405       x^2 - x - 644             1                   2   2   1\n",
      "406           x^2 - 647             1                   2   1   0\n",
      "407       x^2 - x - 648             1                   2   2   2\n",
      "408       x^2 - x - 652             1                   2   2   0\n",
      "409       x^2 - x - 654             1                   2   2   2\n",
      "410       x^2 - x - 655             1                   2   0   0\n"
     ]
    },
    {
     "output_type": "display_data",
     "data": {
      "text/plain": [
       "<Figure size 432x288 with 1 Axes>"
      ],
      "image/png": "[encoded data removed]"
     },
     "metadata": {
      "needs_background": "light"
     }
    }
   ],
   "metadata": {}
  },
  {
   "cell_type": "code",
   "execution_count": null,
   "source": [],
   "outputs": [],
   "metadata": {}
  }
 ],
 "metadata": {
  "colab": {
   "collapsed_sections": [],
   "name": "graphwizz-tree.ipynb",
   "provenance": [],
   "toc_visible": true
  },
  "interpreter": {
   "hash": "b5ab0475b90545719560a28f8d566dc7b6b99528fc0d3a97f1d983c5a4dd5546"
  },
  "kernelspec": {
   "display_name": "Python 3.8.8 64-bit ('base': conda)",
   "name": "python3"
  },
  "language_info": {
   "codemirror_mode": {
    "name": "ipython",
    "version": 3
   },
   "file_extension": ".py",
   "mimetype": "text/x-python",
   "name": "python",
   "nbconvert_exporter": "python",
   "pygments_lexer": "ipython3",
   "version": "3.8.8"
  },
  "metadata": {
   "interpreter": {
    "hash": "ac59ebe37160ed0dfa835113d9b8498d9f09ceb179beaac4002f036b9467c963"
   }
  }
 },
 "nbformat": 4,
 "nbformat_minor": 2
}