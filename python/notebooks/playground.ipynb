{
 "cells": [
  {
   "cell_type": "code",
   "execution_count": 22,
   "metadata": {
    "id": "a42M43IPu1cD"
   },
   "outputs": [
    {
     "name": "stdout",
     "output_type": "stream",
     "text": [
      "         0             1  2  3   4 coeff1 coeff2 coeff3\n",
      "0  2.0.3.1  x**2 - x + 1 -3  1  []      1     -1      1\n",
      "1  2.0.4.1      x**2 + 1 -4  1  []      1      1   None\n",
      "2  2.2.5.1  x**2 - x - 1  5  1  []      1     -1     -1\n",
      "3  2.0.7.1  x**2 - x + 2 -7  1  []      1     -1      2\n",
      "4  2.0.8.1      x**2 + 2 -8  1  []      1      2   None\n"
     ]
    }
   ],
   "source": [
    "import sympy\r\n",
    "import pandas as pd\r\n",
    "\r\n",
    "df_fields = pd.read_csv(\"fields.csv\", header=None)\r\n",
    "df_fields = df_fields.iloc[0:5, 0:5]\r\n",
    "\r\n",
    "# replace ^ by ** and e.g. 3x by 3*x\r\n",
    "df_fields = df_fields.replace('\\^', '**', regex=True)\r\n",
    "df_fields = df_fields.replace('(\\d)(x)', '\\g<1>*\\g<2>', regex=True)\r\n",
    "\r\n",
    "# Extract coeff and append to df_fields\r\n",
    "df_fields = pd.concat([df_fields, pd.DataFrame(data=[sympy.polys.polytools.poly_from_expr(exp)[0].coeffs() for exp in df_fields[1]], columns=['coeff1','coeff2','coeff3'])], axis=1)\r\n",
    "\r\n",
    "print(df_fields)"
   ]
  },
  {
   "cell_type": "code",
   "execution_count": 23,
   "metadata": {},
   "outputs": [
    {
     "data": {
      "text/html": [
       "<div>\n",
       "<style scoped>\n",
       "    .dataframe tbody tr th:only-of-type {\n",
       "        vertical-align: middle;\n",
       "    }\n",
       "\n",
       "    .dataframe tbody tr th {\n",
       "        vertical-align: top;\n",
       "    }\n",
       "\n",
       "    .dataframe thead th {\n",
       "        text-align: right;\n",
       "    }\n",
       "</style>\n",
       "<table border=\"1\" class=\"dataframe\">\n",
       "  <thead>\n",
       "    <tr style=\"text-align: right;\">\n",
       "      <th></th>\n",
       "      <th>0</th>\n",
       "      <th>1</th>\n",
       "      <th>2</th>\n",
       "      <th>3</th>\n",
       "      <th>4</th>\n",
       "      <th>coeff1</th>\n",
       "      <th>coeff2</th>\n",
       "      <th>coeff3</th>\n",
       "    </tr>\n",
       "  </thead>\n",
       "  <tbody>\n",
       "    <tr>\n",
       "      <th>0</th>\n",
       "      <td>2.0.3.1</td>\n",
       "      <td>x**2 - x + 1</td>\n",
       "      <td>-3</td>\n",
       "      <td>1</td>\n",
       "      <td>[]</td>\n",
       "      <td>1</td>\n",
       "      <td>-1</td>\n",
       "      <td>1</td>\n",
       "    </tr>\n",
       "    <tr>\n",
       "      <th>1</th>\n",
       "      <td>2.0.4.1</td>\n",
       "      <td>x**2 + 1</td>\n",
       "      <td>-4</td>\n",
       "      <td>1</td>\n",
       "      <td>[]</td>\n",
       "      <td>1</td>\n",
       "      <td>1</td>\n",
       "      <td>None</td>\n",
       "    </tr>\n",
       "    <tr>\n",
       "      <th>2</th>\n",
       "      <td>2.2.5.1</td>\n",
       "      <td>x**2 - x - 1</td>\n",
       "      <td>5</td>\n",
       "      <td>1</td>\n",
       "      <td>[]</td>\n",
       "      <td>1</td>\n",
       "      <td>-1</td>\n",
       "      <td>-1</td>\n",
       "    </tr>\n",
       "    <tr>\n",
       "      <th>3</th>\n",
       "      <td>2.0.7.1</td>\n",
       "      <td>x**2 - x + 2</td>\n",
       "      <td>-7</td>\n",
       "      <td>1</td>\n",
       "      <td>[]</td>\n",
       "      <td>1</td>\n",
       "      <td>-1</td>\n",
       "      <td>2</td>\n",
       "    </tr>\n",
       "    <tr>\n",
       "      <th>4</th>\n",
       "      <td>2.0.8.1</td>\n",
       "      <td>x**2 + 2</td>\n",
       "      <td>-8</td>\n",
       "      <td>1</td>\n",
       "      <td>[]</td>\n",
       "      <td>1</td>\n",
       "      <td>2</td>\n",
       "      <td>None</td>\n",
       "    </tr>\n",
       "  </tbody>\n",
       "</table>\n",
       "</div>"
      ],
      "text/plain": [
       "         0             1  2  3   4 coeff1 coeff2 coeff3\n",
       "0  2.0.3.1  x**2 - x + 1 -3  1  []      1     -1      1\n",
       "1  2.0.4.1      x**2 + 1 -4  1  []      1      1   None\n",
       "2  2.2.5.1  x**2 - x - 1  5  1  []      1     -1     -1\n",
       "3  2.0.7.1  x**2 - x + 2 -7  1  []      1     -1      2\n",
       "4  2.0.8.1      x**2 + 2 -8  1  []      1      2   None"
      ]
     },
     "execution_count": 23,
     "metadata": {},
     "output_type": "execute_result"
    }
   ],
   "source": [
    "df_fields.head()"
   ]
  },
  {
   "cell_type": "code",
   "execution_count": null,
   "metadata": {},
   "outputs": [],
   "source": []
  }
 ],
 "metadata": {
  "colab": {
   "collapsed_sections": [],
   "name": "graphwizz-tree.ipynb",
   "provenance": [],
   "toc_visible": true
  },
  "interpreter": {
   "hash": "99128b84c4879d33c44a352179e2e6942d01d9802484cac48d49a0a6d60ef1b6"
  },
  "kernelspec": {
   "display_name": "Python 3.8.8 64-bit ('base': conda)",
   "name": "python3"
  },
  "language_info": {
   "codemirror_mode": {
    "name": "ipython",
    "version": 3
   },
   "file_extension": ".py",
   "mimetype": "text/x-python",
   "name": "python",
   "nbconvert_exporter": "python",
   "pygments_lexer": "ipython3",
   "version": "3.8.8"
  },
  "metadata": {
   "interpreter": {
    "hash": "ac59ebe37160ed0dfa835113d9b8498d9f09ceb179beaac4002f036b9467c963"
   }
  }
 },
 "nbformat": 4,
 "nbformat_minor": 0
}