{
 "cells": [
  {
   "cell_type": "code",
   "execution_count": 1,
   "metadata": {
    "_cell_guid": "b1076dfc-b9ad-4769-8c92-a6c4dae69d19",
    "_uuid": "8f2839f25d086af736a60e9eeb907d3b93b6e0e5"
   },
   "outputs": [],
   "source": [
    "import pandas as pd\n",
    "import numpy as np\n",
    "import random\n",
    "import matplotlib.pyplot as plt\n",
    "from sympy import *\n",
    "from sympy import sieve, prime\n",
    "from sympy import sin, tan, tanh, sqrt"
   ]
  },
  {
   "cell_type": "code",
   "execution_count": 2,
   "metadata": {},
   "outputs": [
    {
     "data": {
      "image/png": "[encoded data removed]",
      "text/plain": [
       "<Figure size 864x288 with 1 Axes>"
      ]
     },
     "metadata": {
      "needs_background": "light"
     },
     "output_type": "display_data"
    }
   ],
   "source": [
    "num_primes = 500\n",
    "\n",
    "#array up to 500th prime\n",
    "arr_prime = list(sieve.primerange(prime(num_primes) + 1))\n",
    "\n",
    "def hb_1(p1) -> int:\n",
    "    return hyperb_formula(1, p1)\n",
    "def hb_2(p1) -> int:\n",
    "    return hyperb_formula(2, p1)\n",
    "def hb_3(p1) -> int:\n",
    "    return hyperb_formula(3, p1)\n",
    "\n",
    "def hyperb_formula(nk, p1) -> int:\n",
    "    res = 0.86694 * nk / (0.93726 * sqrt(1 + (tanh(1.6191-tan(sin(1.5708*p1))))**2))\n",
    "    #return 1 if res < 1.151 else 2\n",
    "    return res\n",
    "\n",
    "x = np.arange(num_primes)\n",
    "y1 = np.vectorize(hb_1)(arr_prime)\n",
    "y2 = np.vectorize(hb_2)(arr_prime)\n",
    "y3 = np.vectorize(hb_3)(arr_prime)\n",
    "\n",
    "f = plt.figure(figsize=(12, 4))\n",
    "plt.scatter(x, y1, s=4, alpha=0.9, color=\"red\")\n",
    "plt.scatter(x, y2, s=4, alpha=0.9, color=\"green\")\n",
    "plt.scatter(x, y3, s=4, alpha=0.9, color=\"blue\")\n",
    "plt.show()\n"
   ]
  }
 ],
 "metadata": {
  "interpreter": {
   "hash": "524e93b8e0226315aee682eacc6843c81ddb16bd5c2ad8dc8495f33ccc2f5477"
  },
  "kernelspec": {
   "display_name": "Python 3",
   "language": "python",
   "name": "python3"
  },
  "language_info": {
   "codemirror_mode": {
    "name": "ipython",
    "version": 3
   },
   "file_extension": ".py",
   "mimetype": "text/x-python",
   "name": "python",
   "nbconvert_exporter": "python",
   "pygments_lexer": "ipython3",
   "version": "3.9.7"
  }
 },
 "nbformat": 4,
 "nbformat_minor": 4
}
