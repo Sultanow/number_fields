{
 "cells": [
  {
   "cell_type": "code",
   "execution_count": 2,
   "metadata": {
    "id": "a42M43IPu1cD"
   },
   "outputs": [
    {
     "name": "stdout",
     "output_type": "stream",
     "text": [
      "         0            1  2  3   4    5    6    7\n",
      "0  2.0.3.1  x^2 - x + 1 -3  1  []  NaN  NaN  NaN\n",
      "1  2.0.4.1      x^2 + 1 -4  1  []  NaN  NaN  NaN\n",
      "2  2.2.5.1  x^2 - x - 1  5  1  []  NaN  NaN  NaN\n"
     ]
    }
   ],
   "source": [
    "import pandas as pd\r\n",
    "\r\n",
    "df_fields = pd.read_csv(\"fields.csv\", header=None)\r\n",
    "df_fields = df_fields.iloc[0:5, 0:5]\r\n",
    "\r\n",
    "df_fields[[5,6,7]] = df_fields[1].str.extract('(\\d+?)x^2\\s(\\d+?)x\\s([+-]\\s\\d+?)', expand=True)\r\n",
    "print(df_fields[0:3])\r\n",
    "\r\n",
    "#expression = \"3x^2 - x + 1\"\r\n",
    "#x = sympy.Symbol('x')\r\n",
    "#my_poly = sympy.polys.polytools.poly_from_expr(expression)[0]\r\n",
    "#print(my_poly.coeffs())\r\n",
    "\r\n",
    "#fields_df.head()"
   ]
  }
 ],
 "metadata": {
  "colab": {
   "collapsed_sections": [],
   "name": "graphwizz-tree.ipynb",
   "provenance": [],
   "toc_visible": true
  },
  "interpreter": {
   "hash": "b5ab0475b90545719560a28f8d566dc7b6b99528fc0d3a97f1d983c5a4dd5546"
  },
  "kernelspec": {
   "display_name": "Python 3.8.8 64-bit ('base': conda)",
   "name": "python3"
  },
  "language_info": {
   "codemirror_mode": {
    "name": "ipython",
    "version": 3
   },
   "file_extension": ".py",
   "mimetype": "text/x-python",
   "name": "python",
   "nbconvert_exporter": "python",
   "pygments_lexer": "ipython3",
   "version": "3.8.8"
  },
  "metadata": {
   "interpreter": {
    "hash": "ac59ebe37160ed0dfa835113d9b8498d9f09ceb179beaac4002f036b9467c963"
   }
  }
 },
 "nbformat": 4,
 "nbformat_minor": 0
}